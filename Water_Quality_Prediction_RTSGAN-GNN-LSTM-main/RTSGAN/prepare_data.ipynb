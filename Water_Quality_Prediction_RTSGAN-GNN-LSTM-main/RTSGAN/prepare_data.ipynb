{
 "cells": [
  {
   "cell_type": "code",
   "execution_count": null,
   "metadata": {},
   "outputs": [],
   "source": [
    "import numpy as np\n",
    "import pandas as pd \n",
    "from water_quality.missingprocessor import Processor\n",
    "import pickle\n",
    "\n",
    "data_path = \"data\"\n",
    "loc = \"DATA_FOR_GAN_WITH_DO_TRAIN\"\n",
    "seq_len = 365\n",
    "df = pd.read_csv('{}/{}.csv'.format(data_path,loc), sep = \",\")\n",
    "types = [\"continuous\" for i in range(len(df.columns))]\n",
    "\n",
    "P = Processor(types)\n",
    "# Flip the data to make chronological data\n",
    "ori_data = P.fit_transform(df)\n",
    "ori_data = ori_data[::-1]\n",
    "\n",
    "temp_data = [ori_data[i:i + seq_len] for i in range(0, len(ori_data) - seq_len)]    \n",
    "\n",
    "from fastNLP import DataSet\n",
    "dataset = DataSet({\"seq_len\": [seq_len] * len(temp_data), \"dyn\": temp_data, \"sta\":[0]*len(temp_data)})\n",
    "dic = {\n",
    "    \"train_set\": dataset,\n",
    "    \"dynamic_processor\": P,\n",
    "    \"static_processor\": Processor([])\n",
    "}\n",
    "print(P.dim, len(temp_data))\n",
    "from utils.general import make_sure_path_exists\n",
    "make_sure_path_exists(\"./data\")\n",
    "with open(\"./data/{}.pkl\".format(loc), \"wb\") as f:\n",
    "    pickle.dump(dic, f)"
   ]
  }
 ],
 "metadata": {
  "kernelspec": {
   "display_name": "Python 3 (ipykernel)",
   "language": "python",
   "name": "python3"
  },
  "language_info": {
   "codemirror_mode": {
    "name": "ipython",
    "version": 3
   },
   "file_extension": ".py",
   "mimetype": "text/x-python",
   "name": "python",
   "nbconvert_exporter": "python",
   "pygments_lexer": "ipython3",
   "version": "3.10.12"
  }
 },
 "nbformat": 4,
 "nbformat_minor": 4
}
